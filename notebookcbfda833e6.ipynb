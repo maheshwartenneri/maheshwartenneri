{
 "cells": [
  {
   "cell_type": "code",
   "execution_count": 1,
   "id": "8afafc3e",
   "metadata": {
    "_cell_guid": "b1076dfc-b9ad-4769-8c92-a6c4dae69d19",
    "_uuid": "8f2839f25d086af736a60e9eeb907d3b93b6e0e5",
    "execution": {
     "iopub.execute_input": "2023-04-20T23:43:32.043181Z",
     "iopub.status.busy": "2023-04-20T23:43:32.042189Z",
     "iopub.status.idle": "2023-04-20T23:43:32.330579Z",
     "shell.execute_reply": "2023-04-20T23:43:32.329402Z"
    },
    "papermill": {
     "duration": 0.296018,
     "end_time": "2023-04-20T23:43:32.333499",
     "exception": false,
     "start_time": "2023-04-20T23:43:32.037481",
     "status": "completed"
    },
    "tags": []
   },
   "outputs": [],
   "source": [
    "# This Python 3 environment comes with many helpful analytics libraries installed\n",
    "# It is defined by the kaggle/python Docker image: https://github.com/kaggle/docker-python\n",
    "# For example, here's several helpful packages to load\n",
    "\n",
    "import numpy as np # linear algebra\n",
    "import pandas as pd # data processing, CSV file I/O (e.g. pd.read_csv)\n",
    "import folium\n",
    "\n",
    "# Input data files are available in the read-only \"../input/\" directory\n",
    "\n",
    "df = pd.read_csv('/kaggle/input/us-state-and-territory-latitude-and-longitude-data/US_GeoCode.csv')\n",
    "\n",
    "# For example, running this (by clicking run or pressing Shift+Enter) will list all files under the input directory\n",
    "\n",
    "# Create a map centered on the US\n",
    "m = folium.Map(location=[39.8283, -98.5795], zoom_start=4)\n",
    "\n",
    "# Loop through each row in the DataFrame and add a marker to the map\n",
    "for index, row in df.iterrows():\n",
    "    latitude = row['latitude']\n",
    "    longitude = row['longitude']\n",
    "    Name = row['Name']\n",
    "    marker = folium.Marker([latitude, longitude], popup=Name)\n",
    "    marker.add_to(m)\n",
    "\n",
    "# You can write up to 20GB to the current directory (/kaggle/working/) that gets preserved as output when you create a version using \"Save & Run All\" \n",
    "# You can also write temporary files to /kaggle/temp/, but they won't be saved outside of the current session"
   ]
  }
 ],
 "metadata": {
  "kernelspec": {
   "display_name": "Python 3",
   "language": "python",
   "name": "python3"
  },
  "language_info": {
   "codemirror_mode": {
    "name": "ipython",
    "version": 3
   },
   "file_extension": ".py",
   "mimetype": "text/x-python",
   "name": "python",
   "nbconvert_exporter": "python",
   "pygments_lexer": "ipython3",
   "version": "3.7.12"
  },
  "papermill": {
   "default_parameters": {},
   "duration": 12.886134,
   "end_time": "2023-04-20T23:43:33.057061",
   "environment_variables": {},
   "exception": null,
   "input_path": "__notebook__.ipynb",
   "output_path": "__notebook__.ipynb",
   "parameters": {},
   "start_time": "2023-04-20T23:43:20.170927",
   "version": "2.4.0"
  }
 },
 "nbformat": 4,
 "nbformat_minor": 5
}
